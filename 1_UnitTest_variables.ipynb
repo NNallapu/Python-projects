{
 "cells": [
  {
   "cell_type": "markdown",
   "metadata": {
    "deletable": false,
    "nbgrader": {
     "checksum": "25c5975fa27254458512dcda72a4ac09",
     "grade": false,
     "grade_id": "intro",
     "locked": true,
     "solution": false
    }
   },
   "source": [
    "# Unit tests\n",
    "\n"
   ]
  },
  {
   "cell_type": "code",
   "execution_count": 9,
   "metadata": {
    "collapsed": true,
    "deletable": false,
    "nbgrader": {
     "checksum": "563c9c8ad631f1445d60546ba6539df6",
     "grade": false,
     "grade_id": "import_nose",
     "locked": true,
     "solution": false
    }
   },
   "outputs": [],
   "source": [
    "from nose.tools import assert_equal\n",
    "from nose.tools import assert_almost_equal"
   ]
  },
  {
   "cell_type": "markdown",
   "metadata": {
    "deletable": false,
    "nbgrader": {
     "checksum": "b350074bc76e37f809a7f0ca08f2b57a",
     "grade": false,
     "grade_id": "info1",
     "locked": true,
     "solution": false
    }
   },
   "source": [
    "## Problem 1\n",
    "\n",
    "The main purpose of this problem is to learn how to assign values to a variable.\n",
    "\n",
    "In the following code cell, assign a value of 141 to an integer variable named `the_integer`."
   ]
  },
  {
   "cell_type": "code",
   "execution_count": 10,
   "metadata": {
    "collapsed": true,
    "deletable": false,
    "nbgrader": {
     "checksum": "05fcfe4e1b9e496a2211fcbbe19bf741",
     "grade": false,
     "grade_id": "int",
     "locked": false,
     "solution": true
    }
   },
   "outputs": [],
   "source": [
    "# YOUR CODE HERE\n",
    "the_integer = 141"
   ]
  },
  {
   "cell_type": "markdown",
   "metadata": {
    "deletable": false,
    "nbgrader": {
     "checksum": "dcf97d76947718c06d14596ba2620449",
     "grade": false,
     "grade_id": "info2",
     "locked": true,
     "solution": false
    }
   },
   "source": [
    "The two assert statements below are called unit tests. They are important to check the values of the variables and their data types. \n",
    "Writing the tests first, and then writing the actual code is actually a perfectly valid approach (preferred by many) to programming. It's called test-driven development.\n",
    "\n"
   ]
  },
  {
   "cell_type": "code",
   "execution_count": 11,
   "metadata": {
    "collapsed": false,
    "deletable": false,
    "nbgrader": {
     "checksum": "5ae466bc4c9cf5581989cefaeb5602f0",
     "grade": true,
     "grade_id": "int-test",
     "locked": true,
     "points": 5,
     "solution": false
    }
   },
   "outputs": [],
   "source": [
    "assert_equal(the_integer,141)\n",
    "assert_equal(type(the_integer), int)"
   ]
  },
  {
   "cell_type": "markdown",
   "metadata": {
    "deletable": false,
    "nbgrader": {
     "checksum": "892cc0835ef77346ac8dab28f73db6aa",
     "grade": false,
     "grade_id": "info3",
     "locked": true,
     "solution": false
    }
   },
   "source": [
    "In the following code cell, assign the value 1.6180339 to a floating point variable named `floating_bubbles`."
   ]
  },
  {
   "cell_type": "code",
   "execution_count": 12,
   "metadata": {
    "collapsed": true,
    "deletable": false,
    "nbgrader": {
     "checksum": "46111bb983269f419190cc3b4056c7ad",
     "grade": false,
     "grade_id": "float",
     "locked": false,
     "solution": true
    }
   },
   "outputs": [],
   "source": [
    "# YOUR CODE HERE\n",
    "floating_bubbles = 3.145679"
   ]
  },
  {
   "cell_type": "code",
   "execution_count": 13,
   "metadata": {
    "collapsed": false,
    "deletable": false,
    "nbgrader": {
     "checksum": "d2103804416bb7fd3d7c0077dbc62c70",
     "grade": true,
     "grade_id": "float-test",
     "locked": true,
     "points": 5,
     "solution": false
    }
   },
   "outputs": [],
   "source": [
    "assert_almost_equal(floating_bubbles, 3.145679)\n",
    "assert_equal(type(floating_bubbles), float)"
   ]
  },
  {
   "cell_type": "markdown",
   "metadata": {
    "deletable": false,
    "nbgrader": {
     "checksum": "1719b8b305e718072a26478418c8e378",
     "grade": false,
     "grade_id": "info4",
     "locked": true,
     "solution": false
    }
   },
   "source": [
    "Finally, you will need to assign the string 'YoImAString' to a string variable named `the_string`."
   ]
  },
  {
   "cell_type": "code",
   "execution_count": 14,
   "metadata": {
    "collapsed": true,
    "deletable": false,
    "nbgrader": {
     "checksum": "8cf5a6ef976216e789f8e3d010875ae5",
     "grade": false,
     "grade_id": "string",
     "locked": false,
     "solution": true
    }
   },
   "outputs": [],
   "source": [
    "# YOUR CODE HERE\n",
    "the_string = 'YoImAString'"
   ]
  },
  {
   "cell_type": "code",
   "execution_count": 15,
   "metadata": {
    "collapsed": false,
    "deletable": false,
    "nbgrader": {
     "checksum": "0b6ecd1bba737bdd655ac5c997b45dcc",
     "grade": true,
     "grade_id": "string-test",
     "locked": true,
     "points": 10,
     "solution": false
    }
   },
   "outputs": [],
   "source": [
    "assert_equal(the_string, 'YoImAString')\n",
    "assert_equal(type(the_string), str)"
   ]
  },
  {
   "cell_type": "code",
   "execution_count": null,
   "metadata": {
    "collapsed": true
   },
   "outputs": [],
   "source": []
  }
 ],
 "metadata": {
  "kernelspec": {
   "display_name": "Python 3",
   "language": "python",
   "name": "python3"
  },
  "language_info": {
   "codemirror_mode": {
    "name": "ipython",
    "version": 3
   },
   "file_extension": ".py",
   "mimetype": "text/x-python",
   "name": "python",
   "nbconvert_exporter": "python",
   "pygments_lexer": "ipython3",
   "version": "3.6.0"
  }
 },
 "nbformat": 4,
 "nbformat_minor": 1
}
