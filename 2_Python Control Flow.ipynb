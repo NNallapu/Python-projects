{
 "cells": [
  {
   "cell_type": "markdown",
   "metadata": {},
   "source": [
    "### Python control flow "
   ]
  },
  {
   "cell_type": "markdown",
   "metadata": {},
   "source": [
    "Python provides great support for both control flows in a program both for code blocks in a programs and also \n",
    "for iterative looping in control flow."
   ]
  },
  {
   "cell_type": "code",
   "execution_count": 1,
   "metadata": {
    "collapsed": true
   },
   "outputs": [],
   "source": [
    "import pandas as pd\n",
    "import numpy as np"
   ]
  },
  {
   "cell_type": "markdown",
   "metadata": {},
   "source": [
    "Conditional looping starts with regular if-else. Python supports if-else statements with the primary if followed \n",
    "by elif(short for else-if) for the next condition and so on. Finally, the condition not met by the specified conditions can be given at \n",
    "the end with else."
   ]
  },
  {
   "cell_type": "code",
   "execution_count": 4,
   "metadata": {
    "collapsed": false
   },
   "outputs": [
    {
     "name": "stdout",
     "output_type": "stream",
     "text": [
      "Ay! We entered the loop\n"
     ]
    }
   ],
   "source": [
    "x = 3\n",
    "y = 5\n",
    "\n",
    "if(x >= 3) & (y >=4):\n",
    "    print('Ay! We entered the loop')\n",
    "elif(x >= 5):\n",
    "    print('Still here')\n",
    "else:\n",
    "    print('Peace out!')"
   ]
  },
  {
   "cell_type": "markdown",
   "metadata": {},
   "source": [
    "We can also execute statements based on first conditional methods. Like\n",
    "\n",
    "\n",
    "    if (x > 8):\n",
    "        if (y > 8):\n",
    "            print(\"x and y are large\")\n",
    "        else:\n",
    "            print(\"x is large, but y is not\")  \n",
    "    elif (x > 4):\n",
    "        if (y > 8):\n",
    "            print(\"x is medium but y is large\")\n",
    "    else:\n",
    "        if (y > 8):\n",
    "            print(\"x is small and y is large\")\n",
    "        elif (y > 4):\n",
    "            print(\"x is small but y is medium\")\n",
    "        else:\n",
    "            print(\"x and y are small\")"
   ]
  },
  {
   "cell_type": "markdown",
   "metadata": {},
   "source": [
    "### Python loops & iterations"
   ]
  },
  {
   "cell_type": "markdown",
   "metadata": {},
   "source": [
    "#### list"
   ]
  },
  {
   "cell_type": "code",
   "execution_count": 6,
   "metadata": {
    "collapsed": false,
    "scrolled": true
   },
   "outputs": [
    {
     "name": "stdout",
     "output_type": "stream",
     "text": [
      "10**1 = 10\n",
      "10**2 = 100\n",
      "10**3 = 1000\n",
      "10**4 = 10000\n",
      "10**5 = 100000\n",
      "10**6 = 1000000\n",
      "10**7 = 10000000\n",
      "10**8 = 100000000\n",
      "10**9 = 1000000000\n",
      "10**10 = 10000000000\n"
     ]
    }
   ],
   "source": [
    "\n",
    "\n",
    "data = [1, 2, 3, 4, 5, 6, 7, 8, 9, 10]\n",
    "\n",
    "for item in data:\n",
    "    x = 10**int(item)\n",
    "    print(\"10**{0} = {1}\".format(item, x))"
   ]
  },
  {
   "cell_type": "markdown",
   "metadata": {},
   "source": [
    "#### tuple"
   ]
  },
  {
   "cell_type": "code",
   "execution_count": 7,
   "metadata": {
    "collapsed": false,
    "scrolled": true
   },
   "outputs": [
    {
     "name": "stdout",
     "output_type": "stream",
     "text": [
      "10 * 1 = 10\n",
      "10 * 2 = 20\n",
      "10 * 3 = 30\n",
      "10 * 4 = 40\n",
      "10 * 5 = 50\n",
      "10 * 6 = 60\n",
      "10 * 7 = 70\n",
      "10 * 8 = 80\n",
      "10 * 9 = 90\n",
      "10 * 10 = 100\n"
     ]
    }
   ],
   "source": [
    "\n",
    "\n",
    "data = (1, 2, 3, 4, 5, 6, 7, 8, 9, 10)\n",
    "\n",
    "for item in data:\n",
    "    x = 10 * int(item)\n",
    "    print(\"10 * {0} = {1}\".format(item, x))\n"
   ]
  },
  {
   "cell_type": "markdown",
   "metadata": {},
   "source": [
    "#### string"
   ]
  },
  {
   "cell_type": "code",
   "execution_count": 8,
   "metadata": {
    "collapsed": false,
    "scrolled": true
   },
   "outputs": [
    {
     "name": "stdout",
     "output_type": "stream",
     "text": [
      "L\n",
      "e\n",
      "t\n",
      "'\n",
      "s\n",
      " \n",
      "g\n",
      "e\n",
      "t\n",
      " \n",
      "t\n",
      "h\n",
      "i\n",
      "s\n",
      " \n",
      "t\n",
      "h\n",
      "i\n",
      "n\n",
      "g\n",
      " \n",
      "g\n",
      "o\n",
      "i\n",
      "n\n",
      "g\n"
     ]
    }
   ],
   "source": [
    "\n",
    "\n",
    "text = \"Let's get this thing going\"\n",
    "\n",
    "for c in text:\n",
    "    print(\"{0}\".format(c))"
   ]
  },
  {
   "cell_type": "markdown",
   "metadata": {},
   "source": [
    "#### dict"
   ]
  },
  {
   "cell_type": "code",
   "execution_count": 9,
   "metadata": {
    "collapsed": false
   },
   "outputs": [
    {
     "name": "stdout",
     "output_type": "stream",
     "text": [
      "d[1] = 1\n",
      "d[2] = two\n",
      "d[3] = (1, 2, 3)\n"
     ]
    }
   ],
   "source": [
    "\n",
    "\n",
    "d = {'1': 1, '2': \"two\", '3': (1, 2, 3)}\n",
    "\n",
    "for k, v in d.items():\n",
    "    print(\"d[{0}] = {1}\".format(k, v))"
   ]
  },
  {
   "cell_type": "markdown",
   "metadata": {},
   "source": [
    "To simply loop n times, use"
   ]
  },
  {
   "cell_type": "code",
   "execution_count": 11,
   "metadata": {
    "collapsed": false
   },
   "outputs": [
    {
     "name": "stdout",
     "output_type": "stream",
     "text": [
      "Iteration: 0\n",
      "Iteration: 1\n",
      "Iteration: 2\n",
      "Iteration: 3\n",
      "Iteration: 4\n",
      "Iteration: 5\n",
      "Iteration: 6\n",
      "Iteration: 7\n",
      "Iteration: 8\n",
      "Iteration: 9\n"
     ]
    }
   ],
   "source": [
    "for x in range(10):\n",
    "    print(\"Iteration: {0}\".format(x))"
   ]
  },
  {
   "cell_type": "markdown",
   "metadata": {},
   "source": [
    "##### To loop through a sequence using both ordinal number of the sequence and the sequence item itself, use the enumerate function as below"
   ]
  },
  {
   "cell_type": "code",
   "execution_count": 12,
   "metadata": {
    "collapsed": false
   },
   "outputs": [
    {
     "name": "stdout",
     "output_type": "stream",
     "text": [
      "0**1 = 0\n",
      "1**2 = 1\n",
      "2**3 = 8\n",
      "3**4 = 81\n",
      "4**5 = 1024\n",
      "5**6 = 15625\n",
      "6**7 = 279936\n",
      "7**8 = 5764801\n",
      "8**9 = 134217728\n",
      "9**10 = 3486784401\n"
     ]
    }
   ],
   "source": [
    "data = [1, 2, 3, 4, 5, 6, 7, 8, 9, 10]\n",
    "\n",
    "for index, item in enumerate(data):\n",
    "    x = index**int(item)\n",
    "    print(\"{0}**{1} = {2}\".format(index, item, x))\n"
   ]
  },
  {
   "cell_type": "markdown",
   "metadata": {},
   "source": [
    "-----\n",
    "\n",
    "Another type of loop in Python is the `while` loop, which executes a\n",
    "code block until a condition has been met. The code block is indented\n",
    "following the colon character at the end of the `while` statements.\n",
    "Syntactically, the `while` statement takes the following form:\n",
    "\n",
    "```\n",
    "while (condition):\n",
    "    one or more statements\n",
    "```\n",
    "\n",
    "A `while` loop can often be rewritten more succinctly as a `for` loop\n",
    "that iterates through some sequence. One exception to this is when code\n",
    "blocks should be executed. For example, to perform some operation until\n",
    "a condition that depends on the result of the code block itself.\n",
    "\n",
    "```\n",
    "value = 1\n",
    "while value < 1E6:\n",
    "    value *= 10\n",
    "    print(\"Current value = {0}\".format(value))\n",
    "```\n",
    "\n",
    "----\n",
    "\n",
    "Both `for` and `while` loops can be nested, and include conditional\n",
    "statements as well. There are four other commands that can be used with\n",
    "`for` and `while` loops: `else`, `break`, `continue`, and `pass`.\n",
    "\n",
    "__else__:\n",
    "\n",
    "The `for` and `while` loops both support an optional `else` clause that\n",
    "is executed immediately after the loop exits. In the case of a `for`\n",
    "loop, this occurs when the items in the sequence  have been exhausted,\n",
    "while for the `while` loop this occurs when the condition has become\n",
    "`False`.\n",
    "\n",
    "__`break`__:\n",
    "\n",
    "The `break` statement is generally used in nested loops, terminating the\n",
    "nearest enclosing loop and skipping any optional `else` clauses\n",
    "associated with the broken loop. For example, the `break` command exits\n",
    "out of the inner `for` loop in the following code segment:\n",
    "\n",
    "```\n",
    "for i in range(4):\n",
    "    for j in range(3):\n",
    "       if (j > 2):\n",
    "           break\n",
    "       else:\n",
    "           print(\"{0} inner loop iteration.\".format(j))\n",
    "    \n",
    "    print(\"{0} outer loop iteration.\".format(i))\n",
    "```\n",
    "\n",
    "__`continue`__:\n",
    "\n",
    "The `continue` statement is generally used in nested loops, and skips\n",
    "the rest of the current code block and continues on with the next\n",
    "iteration of the nearest enclosing loop. For example, the `continue`\n",
    "command continues with the next iteration of the inner `for` loop in the\n",
    "following code segment:\n",
    "\n",
    "```\n",
    "for i in range(4):\n",
    "    for j in range(3):\n",
    "       if (j > 1) and (j < 4):\n",
    "           continue\n",
    "       else:\n",
    "           print(\"{0} inner loop iteration.\".format(j))\n",
    "    \n",
    "    print(\"{0} outer loop iteration.\".format(i))\n",
    "```\n",
    "\n",
    "__`pass`__:\n",
    "\n",
    "The `pass` statement does nothing, and is a simple placeholder that is\n",
    "used in place of a code block when no action is required. Presumably\n",
    "this is because the work is done in the iteration process itself. This\n",
    "can occur in a `while` loop when the test condition is a function call,\n",
    "and a `pass` statement is used for the code block since no actual\n",
    "computations are required inside the loop itself. This statement can be\n",
    "used within a conditional statement or loop construct.\n",
    "\n",
    "-----"
   ]
  },
  {
   "cell_type": "markdown",
   "metadata": {},
   "source": [
    "#### Comprehensions\n",
    "\n",
    "Lists and dictionaries are fundamental components of many\n",
    "Python programs, so there exist shorthand notation for quickly building and\n",
    "using these data structures that are known as __comprehensions__. The\n",
    "formalism for either a [_list\n",
    "comprehension_](https://docs.python.org/3/tutorial/datastructures.html#\n",
    "list-comprehensions) or a _dictionary comprehension_, is to simply place\n",
    "Python code inside the respective characters that are used to create a\n",
    "new list or dictionary, respectively. This code generally involves an\n",
    "iterative process that uses a `for` loop, and can also include an\n",
    "optional conditional statement. For example, the following code creates\n",
    "a list with elements that are the squared value of the integers from\n",
    "zero to nine:\n",
    "\n",
    "```\n",
    "data = [x**2 for x in range(10)]\n",
    "```\n",
    "\n",
    "After this line of code, `data` is equal to the list \n",
    "`[0, 1, 4, 9, 16, 25, 36, 49, 64, 81]`. \n",
    "\n",
    "We can apply a conditional statement to this list comprehension to only\n",
    "retain the squares that are even numbers:\n",
    "\n",
    "```\n",
    "data = [x**2 for x in range(10) if not (x % 2)]\n",
    "```\n",
    "\n",
    "After this line of code, `data` is equal to the list \n",
    "`[0, 4, 16, 36, 64]`. \n",
    "\n",
    "We can create moe complex list comprehensions:\n",
    "\n",
    "```\n",
    "data = [(x, x**2) for x in range(4)]\n",
    "```\n",
    "\n",
    "which produces a list of tuples: `[(0, 0), (1, 1), (2, 4), (3, 9)]`.\n",
    "\n",
    "We can also easily create dictionary comprehensions by using the curly\n",
    "braces to properly create a new dictionary:\n",
    "\n",
    "```\n",
    "data = {x: x**2 for x in range(3, 7)}\n",
    "```\n",
    "\n",
    "which creates a new dictionary called `data` that contains the following\n",
    "items: `{3: 9, 4: 16, 5: 25, 6: 36}`. More complex dictionaries can also be \n",
    "created with dictionary comprehensions, as shown in this example:\n",
    "\n",
    "```\n",
    "data = {x: (x, x**2, x**3) for x in range(3, 7)}\n",
    "```\n",
    "\n",
    "Comprehensions are generally faster than traditional list or dictionary\n",
    "operations, and support the application of functions to create the list\n",
    "or dictionary items. Comprehensions can also be nested as required.\n",
    "Python3 also supports `set` comprehensions.\n",
    "\n",
    "-----"
   ]
  },
  {
   "cell_type": "markdown",
   "metadata": {},
   "source": [
    "For more detailed explanations, go to http://www.diveintopython3.net/comprehensions.html\n",
    "    "
   ]
  },
  {
   "cell_type": "code",
   "execution_count": null,
   "metadata": {
    "collapsed": true
   },
   "outputs": [],
   "source": []
  }
 ],
 "metadata": {
  "kernelspec": {
   "display_name": "Python 3",
   "language": "python",
   "name": "python3"
  },
  "language_info": {
   "codemirror_mode": {
    "name": "ipython",
    "version": 3
   },
   "file_extension": ".py",
   "mimetype": "text/x-python",
   "name": "python",
   "nbconvert_exporter": "python",
   "pygments_lexer": "ipython3",
   "version": "3.6.0"
  }
 },
 "nbformat": 4,
 "nbformat_minor": 2
}
